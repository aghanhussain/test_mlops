{
 "cells": [
  {
   "cell_type": "code",
   "execution_count": 8,
   "id": "174ac843",
   "metadata": {},
   "outputs": [],
   "source": [
    "from pathlib import Path\n",
    "import os "
   ]
  },
  {
   "cell_type": "code",
   "execution_count": 1,
   "id": "3c5b1720",
   "metadata": {},
   "outputs": [],
   "source": [
    "project_name  = \"mlproject\"\n",
    "\n",
    "list_of_files = [\n",
    "                    \n",
    "                    f\"src/{project_name}/__init__.py\",\n",
    "                    f\"src/{project_name}/component/data_ingestion.py\",\n",
    "                    f\"src/{project_name}/component/data_transformation.py\",\n",
    "                    f\"src/{project_name}/component/model_trainer.py\",\n",
    "                    f\"src/{project_name}/component/model_monitoring.py\",\n",
    "                    f\"src/{project_name}/piplines/__init__.py\",\n",
    "                    f\"src/{project_name}/piplines/training_pipline.py\",\n",
    "                    f\"src/{project_name}/piplines/prediction_pipline.py\",\n",
    "                    f\"src/{project_name}/exception.py\",\n",
    "                    f\"src/{project_name}/logger.py\",\n",
    "                    f\"src/{project_name}/utils.py\",\n",
    "                    'app.py',\n",
    "                    'Dockerfile',\n",
    "                    'requirements.txt',\n",
    "                    'setup.py'\n",
    "\n",
    "]"
   ]
  },
  {
   "cell_type": "code",
   "execution_count": 10,
   "id": "f6b12338",
   "metadata": {},
   "outputs": [
    {
     "name": "stdout",
     "output_type": "stream",
     "text": [
      "src/mlproject\n",
      "__init__.py\n",
      "+++++++++++\n",
      "src/mlproject/component\n",
      "data_ingestion.py\n",
      "+++++++++++\n",
      "src/mlproject/component\n",
      "data_transformation.py\n",
      "+++++++++++\n",
      "src/mlproject/component\n",
      "model_trainer.py\n",
      "+++++++++++\n",
      "src/mlproject/component\n",
      "model_monitoring.py\n",
      "+++++++++++\n",
      "src/mlproject/piplines\n",
      "__init__.py\n",
      "+++++++++++\n",
      "src/mlproject/piplines\n",
      "training_pipline.py\n",
      "+++++++++++\n",
      "src/mlproject/piplines\n",
      "prediction_pipline.py\n",
      "+++++++++++\n",
      "src/mlproject\n",
      "exception.py\n",
      "+++++++++++\n",
      "src/mlproject\n",
      "logger.py\n",
      "+++++++++++\n",
      "src/mlproject\n",
      "utils.py\n",
      "+++++++++++\n",
      "\n",
      "app.py\n",
      "+++++++++++\n",
      "\n",
      "Dockerfile\n",
      "+++++++++++\n",
      "\n",
      "requirements.txt\n",
      "+++++++++++\n",
      "\n",
      "setup.py\n",
      "+++++++++++\n"
     ]
    }
   ],
   "source": [
    "for filepath in list_of_files:\n",
    "    fileapth = Path(filepath)\n",
    "    filedir,filename = os.path.split(filepath)\n",
    "    if filedir !=\"\":\n",
    "        os.mkdirs(filedir,exist_ok=True)\n",
    "        logging.info(f\"Creating directory: {filedir} for the file{filename}\")\n",
    "    if (not os.path.exists(filepath)) or (os.path.getsize(filepath)==0):\n",
    "        with open(filepath,'w') as f:\n",
    "            pass\n",
    "        logging.info(f\"Creating empty file: {filepath}\")"
   ]
  },
  {
   "cell_type": "code",
   "execution_count": null,
   "id": "aaff8c6b",
   "metadata": {},
   "outputs": [],
   "source": []
  }
 ],
 "metadata": {
  "kernelspec": {
   "display_name": "Python 3",
   "language": "python",
   "name": "python3"
  },
  "language_info": {
   "codemirror_mode": {
    "name": "ipython",
    "version": 3
   },
   "file_extension": ".py",
   "mimetype": "text/x-python",
   "name": "python",
   "nbconvert_exporter": "python",
   "pygments_lexer": "ipython3",
   "version": "3.7.4"
  }
 },
 "nbformat": 4,
 "nbformat_minor": 5
}
